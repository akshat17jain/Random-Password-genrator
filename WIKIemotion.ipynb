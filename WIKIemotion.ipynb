{
  "nbformat": 4,
  "nbformat_minor": 0,
  "metadata": {
    "colab": {
      "name": "WIKIemotion.ipynb",
      "provenance": [],
      "collapsed_sections": [],
      "authorship_tag": "ABX9TyP4Ykd2IqaspOIQ86cgZ8aI",
      "include_colab_link": true
    },
    "kernelspec": {
      "name": "python3",
      "display_name": "Python 3"
    },
    "language_info": {
      "name": "python"
    },
    "accelerator": "GPU"
  },
  "cells": [
    {
      "cell_type": "markdown",
      "metadata": {
        "id": "view-in-github",
        "colab_type": "text"
      },
      "source": [
        "<a href=\"https://colab.research.google.com/github/akshat17jain/Random-Password-genrator/blob/master/WIKIemotion.ipynb\" target=\"_parent\"><img src=\"https://colab.research.google.com/assets/colab-badge.svg\" alt=\"Open In Colab\"/></a>"
      ]
    },
    {
      "cell_type": "code",
      "metadata": {
        "colab": {
          "base_uri": "https://localhost:8080/"
        },
        "id": "pjEpQq3cSEPd",
        "outputId": "df9ba105-7053-46f0-9e2f-8fd49b50bb39"
      },
      "source": [
        "pip install text2emotion"
      ],
      "execution_count": 3,
      "outputs": [
        {
          "output_type": "stream",
          "text": [
            "Collecting text2emotion\n",
            "  Downloading text2emotion-0.0.5-py3-none-any.whl (57 kB)\n",
            "\u001b[?25l\r\u001b[K     |█████▊                          | 10 kB 22.2 MB/s eta 0:00:01\r\u001b[K     |███████████▍                    | 20 kB 28.3 MB/s eta 0:00:01\r\u001b[K     |█████████████████               | 30 kB 24.9 MB/s eta 0:00:01\r\u001b[K     |██████████████████████▊         | 40 kB 19.1 MB/s eta 0:00:01\r\u001b[K     |████████████████████████████▍   | 51 kB 14.3 MB/s eta 0:00:01\r\u001b[K     |████████████████████████████████| 57 kB 4.3 MB/s \n",
            "\u001b[?25hCollecting emoji>=0.6.0\n",
            "  Downloading emoji-1.4.1.tar.gz (185 kB)\n",
            "\u001b[?25l\r\u001b[K     |█▊                              | 10 kB 19.7 MB/s eta 0:00:01\r\u001b[K     |███▌                            | 20 kB 26.1 MB/s eta 0:00:01\r\u001b[K     |█████▎                          | 30 kB 29.7 MB/s eta 0:00:01\r\u001b[K     |███████                         | 40 kB 29.3 MB/s eta 0:00:01\r\u001b[K     |████████▉                       | 51 kB 30.0 MB/s eta 0:00:01\r\u001b[K     |██████████▋                     | 61 kB 32.3 MB/s eta 0:00:01\r\u001b[K     |████████████▍                   | 71 kB 33.3 MB/s eta 0:00:01\r\u001b[K     |██████████████▏                 | 81 kB 22.8 MB/s eta 0:00:01\r\u001b[K     |████████████████                | 92 kB 23.9 MB/s eta 0:00:01\r\u001b[K     |█████████████████▊              | 102 kB 25.0 MB/s eta 0:00:01\r\u001b[K     |███████████████████▌            | 112 kB 25.0 MB/s eta 0:00:01\r\u001b[K     |█████████████████████▎          | 122 kB 25.0 MB/s eta 0:00:01\r\u001b[K     |███████████████████████         | 133 kB 25.0 MB/s eta 0:00:01\r\u001b[K     |████████████████████████▉       | 143 kB 25.0 MB/s eta 0:00:01\r\u001b[K     |██████████████████████████▌     | 153 kB 25.0 MB/s eta 0:00:01\r\u001b[K     |████████████████████████████▎   | 163 kB 25.0 MB/s eta 0:00:01\r\u001b[K     |██████████████████████████████  | 174 kB 25.0 MB/s eta 0:00:01\r\u001b[K     |███████████████████████████████▉| 184 kB 25.0 MB/s eta 0:00:01\r\u001b[K     |████████████████████████████████| 185 kB 25.0 MB/s \n",
            "\u001b[?25hRequirement already satisfied: nltk in /usr/local/lib/python3.7/dist-packages (from text2emotion) (3.2.5)\n",
            "Requirement already satisfied: six in /usr/local/lib/python3.7/dist-packages (from nltk->text2emotion) (1.15.0)\n",
            "Building wheels for collected packages: emoji\n",
            "  Building wheel for emoji (setup.py) ... \u001b[?25l\u001b[?25hdone\n",
            "  Created wheel for emoji: filename=emoji-1.4.1-py3-none-any.whl size=186393 sha256=1a2a8360a72a4ca78f586b264119f96e847979cbf1b0c196802cb797c69f2e2f\n",
            "  Stored in directory: /root/.cache/pip/wheels/8e/68/ac/537456a5331f1405779f2b3c2a578429d2f6d7419e440330d8\n",
            "Successfully built emoji\n",
            "Installing collected packages: emoji, text2emotion\n",
            "Successfully installed emoji-1.4.1 text2emotion-0.0.5\n"
          ],
          "name": "stdout"
        }
      ]
    },
    {
      "cell_type": "code",
      "metadata": {
        "colab": {
          "base_uri": "https://localhost:8080/"
        },
        "id": "2Fp3ssUWRaGr",
        "outputId": "671321e3-93ff-4fca-dda2-69e0bdebfe38"
      },
      "source": [
        "import text2emotion as te\n",
        "import requests\n",
        "from bs4 import BeautifulSoup as bs\n",
        "import matplotlib.pyplot as plt"
      ],
      "execution_count": 4,
      "outputs": [
        {
          "output_type": "stream",
          "text": [
            "[nltk_data] Downloading package stopwords to /root/nltk_data...\n",
            "[nltk_data]   Unzipping corpora/stopwords.zip.\n",
            "[nltk_data] Downloading package punkt to /root/nltk_data...\n",
            "[nltk_data]   Unzipping tokenizers/punkt.zip.\n",
            "[nltk_data] Downloading package wordnet to /root/nltk_data...\n",
            "[nltk_data]   Unzipping corpora/wordnet.zip.\n"
          ],
          "name": "stdout"
        }
      ]
    },
    {
      "cell_type": "code",
      "metadata": {
        "colab": {
          "base_uri": "https://localhost:8080/"
        },
        "id": "8ZNZxcbyRe_-",
        "outputId": "4a813373-bd94-48cc-cd3b-63be821067e3"
      },
      "source": [
        "query = input(\"emotion analysis on \")\n",
        "url = requests.get('https://en.wikipedia.org/wiki/'+query).text\n",
        "page=bs(url,\"html.parser\")\n",
        "text = \"\"\n",
        "for word in page.find_all('p'):\n",
        "\ttext += word.text"
      ],
      "execution_count": 5,
      "outputs": [
        {
          "output_type": "stream",
          "text": [
            "emotion analysis on india\n"
          ],
          "name": "stdout"
        }
      ]
    },
    {
      "cell_type": "code",
      "metadata": {
        "colab": {
          "base_uri": "https://localhost:8080/"
        },
        "id": "yHX2rnQ_RhJ-",
        "outputId": "eba0f49f-985a-46ff-c3c9-b57d1886a032"
      },
      "source": [
        "print(\"parsing done.\")\n",
        "print(\"this might take a while...\")"
      ],
      "execution_count": 6,
      "outputs": [
        {
          "output_type": "stream",
          "text": [
            "parsing done.\n",
            "this might take a while...\n"
          ],
          "name": "stdout"
        }
      ]
    },
    {
      "cell_type": "code",
      "metadata": {
        "colab": {
          "base_uri": "https://localhost:8080/",
          "height": 281
        },
        "id": "smwT5c7uRhl2",
        "outputId": "c045cb60-4514-469f-f728-5cf35d5273e8"
      },
      "source": [
        "emotion=te.get_emotion(text)\n",
        "plt.bar(*zip(*emotion.items()))\n",
        "plt.title(\"Emotional analysis of \" + query)\n",
        "plt.show()"
      ],
      "execution_count": 7,
      "outputs": [
        {
          "output_type": "display_data",
          "data": {
            "image/png": "[encoded data removed]",
            "text/plain": [
              "<Figure size 432x288 with 1 Axes>"
            ]
          },
          "metadata": {
            "tags": [],
            "needs_background": "light"
          }
        }
      ]
    }
  ]
}